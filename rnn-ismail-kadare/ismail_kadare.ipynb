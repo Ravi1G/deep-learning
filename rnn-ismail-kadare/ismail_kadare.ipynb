{
 "cells": [
  {
   "cell_type": "markdown",
   "metadata": {},
   "source": [
    "# Ismail Kadare - Gjakftohtesia\n",
    "\n",
    "This notebook builds a character-wise RNN trained on \"Gjakftohtesia\" of the albanian author Ismail Kadare. It'll be used to generate a new chapter.\n",
    "\n",
    "This network is based on https://github.com/udacity/deep-learning/tree/master/intro-to-rnns"
   ]
  },
  {
   "cell_type": "code",
   "execution_count": 1,
   "metadata": {},
   "outputs": [],
   "source": [
    "import time\n",
    "from collections import namedtuple\n",
    "\n",
    "import numpy as np\n",
    "import tensorflow as tf"
   ]
  },
  {
   "cell_type": "markdown",
   "metadata": {},
   "source": [
    "Create the dictionaries"
   ]
  },
  {
   "cell_type": "code",
   "execution_count": 2,
   "metadata": {},
   "outputs": [],
   "source": [
    "with open('Ismail Kadare - Gjakftohtesia.txt', 'r', encoding=\"iso-8859-1\") as f:\n",
    "    text=f.read()\n",
    "vocab = sorted(set(text))\n",
    "vocab_to_int = {c: i for i, c in enumerate(vocab)}\n",
    "int_to_vocab = dict(enumerate(vocab))\n",
    "encoded = np.array([vocab_to_int[c] for c in text], dtype=np.int32)"
   ]
  },
  {
   "cell_type": "code",
   "execution_count": 3,
   "metadata": {},
   "outputs": [
    {
     "name": "stdout",
     "output_type": "stream",
     "text": [
      "vocab ['\\n', '\\x0c', ' ', '!', '\"', '#', '%', '&', \"'\", '(', ')', '*', '+', ',', '-', '.', '/', '0', '1', '2', '3', '4', '5', '6', '7', '8', '9', ':', ';', '<', '>', '?', 'A', 'B', 'C', 'D', 'E', 'F', 'G', 'H', 'I', 'J', 'K', 'L', 'M', 'N', 'O', 'P', 'Q', 'R', 'S', 'T', 'U', 'V', 'W', 'X', 'Y', 'Z', '[', '\\\\', ']', '^', '_', 'a', 'b', 'c', 'd', 'e', 'f', 'g', 'h', 'i', 'j', 'k', 'l', 'm', 'n', 'o', 'p', 'q', 'r', 's', 't', 'u', 'v', 'w', 'x', 'y', 'z', '~', '\\x86', '\\x88', '\\x89', '\\x8a', '\\x8e', '\\x8f', '\\x90', '\\x93', '\\x95', '\\x97', '\\x98', '\\x99', '\\x9a', '\\x9d', '\\x9e', '\\x9f', '¡', '£', '¤', '¥', '§', 'Ç', 'È', 'ã', 'å', 'æ', 'ë', 'ó']\n",
      "vocab_to_int {'+': 12, 'H': 39, ':': 27, '¡': 106, 't': 82, 'h': 70, 'Z': 57, 'A': 32, 'f': 68, '3': 20, 'j': 72, 'È': 112, '%': 6, 'K': 42, 'm': 75, 'b': 64, 'k': 73, 'Ç': 111, '\\x0c': 1, 'ó': 117, 'E': 36, '&': 7, ',': 13, 'Q': 48, '¥': 109, '~': 89, '[': 58, '<': 29, '§': 110, 'p': 78, '\\x97': 99, ' ': 2, '-': 14, 'X': 55, '9': 26, 'z': 88, 'D': 35, '¤': 108, 'n': 76, 'å': 114, 'F': 37, '\\x89': 92, '\\x95': 98, '\\x8a': 93, 'w': 85, '\\x99': 101, 'C': 34, 'Y': 56, 'æ': 115, '£': 107, 'g': 69, '\\x88': 91, 'e': 67, '>': 30, '\"': 4, 'R': 49, 'P': 47, '!': 3, '4': 21, 'B': 33, 'U': 52, 'S': 50, 'I': 40, '\\x8f': 95, 'd': 66, '0': 17, '\\x9e': 104, '\\x8e': 94, 'N': 45, 'O': 46, '\\x9f': 105, 'y': 87, '6': 23, '\\x93': 97, 'G': 38, '#': 5, 'q': 79, 'r': 80, '1': 18, '^': 61, 'J': 41, ']': 60, 'a': 63, '5': 22, \"'\": 8, 'W': 54, '\\x9a': 102, ')': 10, ';': 28, 'v': 84, 'ë': 116, '\\n': 0, 'l': 74, 'T': 51, '\\\\': 59, 's': 81, '\\x86': 90, 'L': 43, '\\x9d': 103, '.': 15, 'x': 86, 'M': 44, 'c': 65, 'ã': 113, 'u': 83, '\\x98': 100, '?': 31, '\\x90': 96, '_': 62, '2': 19, '8': 25, '/': 16, 'o': 77, '7': 24, 'V': 53, '(': 9, '*': 11, 'i': 71}\n",
      "int_to_vocab {0: '\\n', 1: '\\x0c', 2: ' ', 3: '!', 4: '\"', 5: '#', 6: '%', 7: '&', 8: \"'\", 9: '(', 10: ')', 11: '*', 12: '+', 13: ',', 14: '-', 15: '.', 16: '/', 17: '0', 18: '1', 19: '2', 20: '3', 21: '4', 22: '5', 23: '6', 24: '7', 25: '8', 26: '9', 27: ':', 28: ';', 29: '<', 30: '>', 31: '?', 32: 'A', 33: 'B', 34: 'C', 35: 'D', 36: 'E', 37: 'F', 38: 'G', 39: 'H', 40: 'I', 41: 'J', 42: 'K', 43: 'L', 44: 'M', 45: 'N', 46: 'O', 47: 'P', 48: 'Q', 49: 'R', 50: 'S', 51: 'T', 52: 'U', 53: 'V', 54: 'W', 55: 'X', 56: 'Y', 57: 'Z', 58: '[', 59: '\\\\', 60: ']', 61: '^', 62: '_', 63: 'a', 64: 'b', 65: 'c', 66: 'd', 67: 'e', 68: 'f', 69: 'g', 70: 'h', 71: 'i', 72: 'j', 73: 'k', 74: 'l', 75: 'm', 76: 'n', 77: 'o', 78: 'p', 79: 'q', 80: 'r', 81: 's', 82: 't', 83: 'u', 84: 'v', 85: 'w', 86: 'x', 87: 'y', 88: 'z', 89: '~', 90: '\\x86', 91: '\\x88', 92: '\\x89', 93: '\\x8a', 94: '\\x8e', 95: '\\x8f', 96: '\\x90', 97: '\\x93', 98: '\\x95', 99: '\\x97', 100: '\\x98', 101: '\\x99', 102: '\\x9a', 103: '\\x9d', 104: '\\x9e', 105: '\\x9f', 106: '¡', 107: '£', 108: '¤', 109: '¥', 110: '§', 111: 'Ç', 112: 'È', 113: 'ã', 114: 'å', 115: 'æ', 116: 'ë', 117: 'ó'}\n"
     ]
    }
   ],
   "source": [
    "print('vocab', vocab)\n",
    "print('vocab_to_int', vocab_to_int)\n",
    "print('int_to_vocab', int_to_vocab)"
   ]
  },
  {
   "cell_type": "code",
   "execution_count": 4,
   "metadata": {},
   "outputs": [
    {
     "data": {
      "text/plain": [
       "'ISMAIL \\nKADARE \\n\\nGJAKFTOHTESIA \\n\\nNOVELA \\n\\nSHTEPIA BOTUESE NAIM FRASHERI \\n\\n\\x0c\\nRedaktor \\n\\n\\x0c\\ns \\n\\nSilva e'"
      ]
     },
     "execution_count": 4,
     "metadata": {},
     "output_type": "execute_result"
    }
   ],
   "source": [
    "text[:100]"
   ]
  },
  {
   "cell_type": "markdown",
   "metadata": {},
   "source": [
    "Characters encoded as integers"
   ]
  },
  {
   "cell_type": "code",
   "execution_count": 5,
   "metadata": {},
   "outputs": [
    {
     "data": {
      "text/plain": [
       "array([40, 50, 44, 32, 40, 43,  2,  0, 42, 32, 35, 32, 49, 36,  2,  0,  0,\n",
       "       38, 41, 32, 42, 37, 51, 46, 39, 51, 36, 50, 40, 32,  2,  0,  0, 45,\n",
       "       46, 53, 36, 43, 32,  2,  0,  0, 50, 39, 51, 36, 47, 40, 32,  2, 33,\n",
       "       46, 51, 52, 36, 50, 36,  2, 45, 32, 40, 44,  2, 37, 49, 32, 50, 39,\n",
       "       36, 49, 40,  2,  0,  0,  1,  0, 49, 67, 66, 63, 73, 82, 77, 80,  2,\n",
       "        0,  0,  1,  0, 81,  2,  0,  0, 50, 71, 74, 84, 63,  2, 67], dtype=int32)"
      ]
     },
     "execution_count": 5,
     "metadata": {},
     "output_type": "execute_result"
    }
   ],
   "source": [
    "encoded[:100]"
   ]
  },
  {
   "cell_type": "markdown",
   "metadata": {},
   "source": [
    "How many character classes?"
   ]
  },
  {
   "cell_type": "code",
   "execution_count": 6,
   "metadata": {},
   "outputs": [
    {
     "data": {
      "text/plain": [
       "118"
      ]
     },
     "execution_count": 6,
     "metadata": {},
     "output_type": "execute_result"
    }
   ],
   "source": [
    "len(vocab)"
   ]
  },
  {
   "cell_type": "markdown",
   "metadata": {},
   "source": [
    "## Making training mini-batches"
   ]
  },
  {
   "cell_type": "code",
   "execution_count": 7,
   "metadata": {},
   "outputs": [],
   "source": [
    "def get_batches(arr, batch_size, n_steps):\n",
    "    '''Create a generator that returns batches of size\n",
    "       batch_size x n_steps from arr.\n",
    "       \n",
    "       Arguments\n",
    "       ---------\n",
    "       arr: Array you want to make batches from\n",
    "       batch_size: Batch size, the number of sequences per batch\n",
    "       n_steps: Number of sequence steps per batch\n",
    "    '''\n",
    "    # Get the number of characters per batch and number of batches we can make\n",
    "    characters_per_batch = batch_size * n_steps\n",
    "    n_batches = len(arr) // characters_per_batch\n",
    "    \n",
    "    # Keep only enough characters to make full batches\n",
    "    arr = arr[:n_batches*characters_per_batch]\n",
    "    \n",
    "    # Reshape into batch_size rows\n",
    "    arr = arr.reshape(batch_size,-1)\n",
    "    \n",
    "    for n in range(0, arr.shape[1], n_steps):\n",
    "        # The features\n",
    "        x = arr[:, n:n+n_steps]\n",
    "        # The targets, shifted by one\n",
    "        y = np.zeros_like(x)\n",
    "        y[:, :-1] = x[:, 1:]\n",
    "        y[:, -1] = x[:, 0]\n",
    "        yield x, y"
   ]
  },
  {
   "cell_type": "markdown",
   "metadata": {},
   "source": [
    "Test get_batches()"
   ]
  },
  {
   "cell_type": "code",
   "execution_count": 8,
   "metadata": {},
   "outputs": [],
   "source": [
    "batches = get_batches(encoded, 10, 50)\n",
    "x, y = next(batches)"
   ]
  },
  {
   "cell_type": "code",
   "execution_count": 9,
   "metadata": {},
   "outputs": [
    {
     "name": "stdout",
     "output_type": "stream",
     "text": [
      "x\n",
      " [[40 50 44 32 40 43  2  0 42 32]\n",
      " [ 2 81 67  2 42 77 81 82 63 76]\n",
      " [34  8 67 81 70 82 67  2 73 72]\n",
      " [74 67 70 82 67 81 83 63 80  2]\n",
      " [63 80  2 84 67 82 67 82 71 75]\n",
      " [73  2 74 77 66 70 72 63 31  2]\n",
      " [78 71  2 38 72 77 80 69 83 76]\n",
      " [83 66 70 67 81  2  0 66 70 67]\n",
      " [80 81 67 13  2 75 77 80 71  2]\n",
      " [ 2 81 70 83 75 67  2 75 67  2]]\n",
      "\n",
      "y\n",
      " [[50 44 32 40 43  2  0 42 32 35]\n",
      " [81 67  2 42 77 81 82 63 76 66]\n",
      " [ 8 67 81 70 82 67  2 73 72 77]\n",
      " [67 70 82 67 81 83 63 80  2 81]\n",
      " [80  2 84 67 82 67 82 71 75 63]\n",
      " [ 2 74 77 66 70 72 63 31  2  0]\n",
      " [71  2 38 72 77 80 69 83 76  2]\n",
      " [66 70 67 81  2  0 66 70 67 13]\n",
      " [81 67 13  2 75 77 80 71  2 68]\n",
      " [81 70 83 75 67  2 75 67  2 71]]\n"
     ]
    }
   ],
   "source": [
    "print('x\\n', x[:10, :10])\n",
    "print('\\ny\\n', y[:10, :10])"
   ]
  },
  {
   "cell_type": "code",
   "execution_count": 10,
   "metadata": {},
   "outputs": [],
   "source": [
    "def build_inputs(batch_size, num_steps):\n",
    "    ''' Define placeholders for inputs, targets, and dropout \n",
    "    \n",
    "        Arguments\n",
    "        ---------\n",
    "        batch_size: Batch size, number of sequences per batch\n",
    "        num_steps: Number of sequence steps in a batch\n",
    "        \n",
    "    '''\n",
    "    # Declare placeholders we'll feed into the graph\n",
    "    inputs = tf.placeholder(tf.int32, [batch_size, num_steps])\n",
    "    targets = tf.placeholder(tf.int32, [batch_size, num_steps])\n",
    "    \n",
    "    # Keep probability placeholder for drop out layers\n",
    "    keep_prob = tf.placeholder(tf.float32, name='keep_prob')\n",
    "    \n",
    "    return inputs, targets, keep_prob"
   ]
  },
  {
   "cell_type": "markdown",
   "metadata": {},
   "source": [
    "### LSTM Cell"
   ]
  },
  {
   "cell_type": "code",
   "execution_count": 11,
   "metadata": {},
   "outputs": [],
   "source": [
    "def build_lstm(lstm_size, num_layers, batch_size, keep_prob):\n",
    "    ''' Build LSTM cell.\n",
    "    \n",
    "        Arguments\n",
    "        ---------\n",
    "        keep_prob: Scalar tensor (tf.placeholder) for the dropout keep probability\n",
    "        lstm_size: Size of the hidden layers in the LSTM cells\n",
    "        num_layers: Number of LSTM layers\n",
    "        batch_size: Batch size\n",
    "\n",
    "    '''\n",
    "    ### Build the LSTM Cell\n",
    "    def build_cell(num_units, keep_prob):\n",
    "        # Use a basic LSTM cell\n",
    "        lstm = tf.contrib.rnn.BasicLSTMCell(num_units)\n",
    "        # Add dropout to the cell outputs\n",
    "        drop = tf.contrib.rnn.DropoutWrapper(lstm, output_keep_prob=keep_prob)\n",
    "    \n",
    "        return drop\n",
    "    \n",
    "    \n",
    "    # Stack up multiple LSTM layers, for deep learning\n",
    "    cell = tf.contrib.rnn.MultiRNNCell([build_cell(lstm_size, keep_prob) for _ in range(num_layers)])\n",
    "    initial_state = cell.zero_state(batch_size, tf.float32)\n",
    "    \n",
    "    return cell, initial_state"
   ]
  },
  {
   "cell_type": "markdown",
   "metadata": {},
   "source": [
    "### RNN Output"
   ]
  },
  {
   "cell_type": "code",
   "execution_count": 12,
   "metadata": {},
   "outputs": [],
   "source": [
    "def build_output(lstm_output, in_size, out_size):\n",
    "    ''' Build a softmax layer, return the softmax output and logits.\n",
    "    \n",
    "        Arguments\n",
    "        ---------\n",
    "        \n",
    "        lstm_output: List of output tensors from the LSTM layer\n",
    "        in_size: Size of the input tensor, for example, size of the LSTM cells\n",
    "        out_size: Size of this softmax layer\n",
    "    \n",
    "    '''\n",
    "\n",
    "    # Reshape output so it's a bunch of rows, one row for each step for each sequence.\n",
    "    # Concatenate lstm_output over axis 1 (the columns)\n",
    "    seq_output = tf.concat(lstm_output, axis=1)\n",
    "    # Reshape seq_output to a 2D tensor with lstm_size columns\n",
    "    x = tf.reshape(seq_output, [-1, in_size])\n",
    "    \n",
    "    # Connect the RNN outputs to a softmax layer\n",
    "    with tf.variable_scope('softmax'):\n",
    "        # Create the weight and bias variables here\n",
    "        softmax_w = tf.Variable(tf.truncated_normal((in_size, out_size), stddev=0.1))\n",
    "        softmax_b = tf.Variable(tf.zeros(out_size))\n",
    "    \n",
    "    # Since output is a bunch of rows of RNN cell outputs, logits will be a bunch\n",
    "    # of rows of logit outputs, one for each step and sequence\n",
    "    logits = tf.matmul(x, softmax_w) + softmax_b\n",
    "    \n",
    "    # Use softmax to get the probabilities for predicted characters\n",
    "    out = tf.nn.softmax(logits, name='predictions')\n",
    "    \n",
    "    return out, logits"
   ]
  },
  {
   "cell_type": "markdown",
   "metadata": {},
   "source": [
    "### Training loss"
   ]
  },
  {
   "cell_type": "code",
   "execution_count": 13,
   "metadata": {},
   "outputs": [],
   "source": [
    "def build_loss(logits, targets, lstm_size, num_classes):\n",
    "    ''' Calculate the loss from the logits and the targets.\n",
    "    \n",
    "        Arguments\n",
    "        ---------\n",
    "        logits: Logits from final fully connected layer\n",
    "        targets: Targets for supervised learning\n",
    "        lstm_size: Number of LSTM hidden units\n",
    "        num_classes: Number of classes in targets\n",
    "        \n",
    "    '''\n",
    "    \n",
    "    # One-hot encode targets and reshape to match logits, one row per sequence per step\n",
    "    y_one_hot = tf.one_hot(targets, num_classes)\n",
    "    y_reshaped =  tf.reshape(y_one_hot, logits.get_shape())\n",
    "    \n",
    "    # Softmax cross entropy loss\n",
    "    loss = tf.nn.softmax_cross_entropy_with_logits(logits=logits, labels=y_reshaped)\n",
    "    loss = tf.reduce_mean(loss)\n",
    "    \n",
    "    return loss"
   ]
  },
  {
   "cell_type": "markdown",
   "metadata": {},
   "source": [
    "### Optimizer"
   ]
  },
  {
   "cell_type": "code",
   "execution_count": 14,
   "metadata": {},
   "outputs": [],
   "source": [
    "def build_optimizer(loss, learning_rate, grad_clip):\n",
    "    ''' Build optmizer for training, using gradient clipping.\n",
    "    \n",
    "        Arguments:\n",
    "        loss: Network loss\n",
    "        learning_rate: Learning rate for optimizer\n",
    "    \n",
    "    '''\n",
    "    \n",
    "    # Optimizer for training, using gradient clipping to control exploding gradients\n",
    "    tvars = tf.trainable_variables()\n",
    "    grads, _ = tf.clip_by_global_norm(tf.gradients(loss, tvars), grad_clip)\n",
    "    train_op = tf.train.AdamOptimizer(learning_rate)\n",
    "    optimizer = train_op.apply_gradients(zip(grads, tvars))\n",
    "    \n",
    "    return optimizer"
   ]
  },
  {
   "cell_type": "markdown",
   "metadata": {},
   "source": [
    "### Build the network"
   ]
  },
  {
   "cell_type": "code",
   "execution_count": 15,
   "metadata": {},
   "outputs": [],
   "source": [
    "class CharRNN:\n",
    "    \n",
    "    def __init__(self, num_classes, batch_size=64, num_steps=50, \n",
    "                       lstm_size=128, num_layers=2, learning_rate=0.001, \n",
    "                       grad_clip=5, sampling=False):\n",
    "    \n",
    "        # When we're using this network for sampling later, we'll be passing in\n",
    "        # one character at a time, so providing an option for that\n",
    "        if sampling == True:\n",
    "            batch_size, num_steps = 1, 1\n",
    "        else:\n",
    "            batch_size, num_steps = batch_size, num_steps\n",
    "\n",
    "        tf.reset_default_graph()\n",
    "        \n",
    "        # Build the input placeholder tensors\n",
    "        self.inputs, self.targets, self.keep_prob = build_inputs(batch_size, num_steps)\n",
    "\n",
    "        # Build the LSTM cell\n",
    "        cell, self.initial_state = build_lstm(lstm_size, num_layers, batch_size, keep_prob)\n",
    "\n",
    "        ### Run the data through the RNN layers\n",
    "        # First, one-hot encode the input tokens\n",
    "        x_one_hot = tf.one_hot(self.inputs, num_classes)\n",
    "        \n",
    "        # Run each sequence step through the RNN with tf.nn.dynamic_rnn \n",
    "        outputs, state = tf.nn.dynamic_rnn(cell, x_one_hot, initial_state=self.initial_state)\n",
    "        self.final_state = state\n",
    "        \n",
    "        # Get softmax predictions and logits\n",
    "        self.prediction, self.logits = build_output(outputs, lstm_size, num_classes)\n",
    "        \n",
    "        # Loss and optimizer (with gradient clipping)\n",
    "        self.loss = build_loss(self.logits, self.targets, lstm_size, num_classes) \n",
    "        self.optimizer = build_optimizer(self.loss, learning_rate, grad_clip)"
   ]
  },
  {
   "cell_type": "markdown",
   "metadata": {},
   "source": [
    "## Hyperparameters"
   ]
  },
  {
   "cell_type": "code",
   "execution_count": 16,
   "metadata": {},
   "outputs": [],
   "source": [
    "batch_size = 100         # Sequences per batch\n",
    "num_steps = 100          # Number of sequence steps per batch\n",
    "lstm_size = 512         # Size of hidden layers in LSTMs\n",
    "num_layers = 2          # Number of LSTM layers\n",
    "learning_rate = 0.001    # Learning rate\n",
    "keep_prob = 0.5          # Dropout keep probability"
   ]
  },
  {
   "cell_type": "markdown",
   "metadata": {},
   "source": [
    "## Training"
   ]
  },
  {
   "cell_type": "code",
   "execution_count": null,
   "metadata": {
    "scrolled": true
   },
   "outputs": [
    {
     "name": "stdout",
     "output_type": "stream",
     "text": [
      "Epoch: 1/500...  Training Step: 50...  Training loss: 3.0784...  0.3110 sec/batch\n",
      "Epoch: 2/500...  Training Step: 100...  Training loss: 2.9962...  0.3145 sec/batch\n",
      "Epoch: 2/500...  Training Step: 150...  Training loss: 2.6809...  0.3153 sec/batch\n",
      "Epoch: 3/500...  Training Step: 200...  Training loss: 2.4355...  0.3152 sec/batch\n",
      "Epoch: 3/500...  Training Step: 250...  Training loss: 2.3322...  0.3192 sec/batch\n",
      "Epoch: 4/500...  Training Step: 300...  Training loss: 2.2571...  0.3193 sec/batch\n",
      "Epoch: 4/500...  Training Step: 350...  Training loss: 2.2289...  0.3219 sec/batch\n",
      "Epoch: 5/500...  Training Step: 400...  Training loss: 2.2030...  0.3209 sec/batch\n",
      "Epoch: 6/500...  Training Step: 450...  Training loss: 2.1202...  0.3198 sec/batch\n",
      "Epoch: 6/500...  Training Step: 500...  Training loss: 2.1189...  0.3205 sec/batch\n",
      "Epoch: 7/500...  Training Step: 550...  Training loss: 2.0472...  0.3232 sec/batch\n",
      "Epoch: 7/500...  Training Step: 600...  Training loss: 1.9949...  0.3215 sec/batch\n",
      "Epoch: 8/500...  Training Step: 650...  Training loss: 1.9534...  0.3231 sec/batch\n",
      "Epoch: 8/500...  Training Step: 700...  Training loss: 1.9236...  0.3234 sec/batch\n",
      "Epoch: 9/500...  Training Step: 750...  Training loss: 1.8730...  0.3225 sec/batch\n",
      "Epoch: 10/500...  Training Step: 800...  Training loss: 1.8498...  0.3217 sec/batch\n",
      "Epoch: 10/500...  Training Step: 850...  Training loss: 1.8161...  0.3250 sec/batch\n",
      "Epoch: 11/500...  Training Step: 900...  Training loss: 1.7817...  0.3258 sec/batch\n",
      "Epoch: 11/500...  Training Step: 950...  Training loss: 1.7295...  0.3261 sec/batch\n",
      "Epoch: 12/500...  Training Step: 1000...  Training loss: 1.7166...  0.3242 sec/batch\n",
      "Epoch: 12/500...  Training Step: 1050...  Training loss: 1.6703...  0.3264 sec/batch\n",
      "Epoch: 13/500...  Training Step: 1100...  Training loss: 1.6963...  0.3228 sec/batch\n",
      "Epoch: 14/500...  Training Step: 1150...  Training loss: 1.6551...  0.3244 sec/batch\n",
      "Epoch: 14/500...  Training Step: 1200...  Training loss: 1.6468...  0.3252 sec/batch\n",
      "Epoch: 15/500...  Training Step: 1250...  Training loss: 1.6165...  0.3266 sec/batch\n",
      "Epoch: 15/500...  Training Step: 1300...  Training loss: 1.6102...  0.3224 sec/batch\n",
      "Epoch: 16/500...  Training Step: 1350...  Training loss: 1.5758...  0.3233 sec/batch\n",
      "Epoch: 16/500...  Training Step: 1400...  Training loss: 1.5550...  0.3222 sec/batch\n",
      "Epoch: 17/500...  Training Step: 1450...  Training loss: 1.5740...  0.3220 sec/batch\n",
      "Epoch: 18/500...  Training Step: 1500...  Training loss: 1.5714...  0.3279 sec/batch\n",
      "Epoch: 18/500...  Training Step: 1550...  Training loss: 1.5536...  0.3228 sec/batch\n",
      "Epoch: 19/500...  Training Step: 1600...  Training loss: 1.5020...  0.3268 sec/batch\n",
      "Epoch: 19/500...  Training Step: 1650...  Training loss: 1.5527...  0.3244 sec/batch\n",
      "Epoch: 20/500...  Training Step: 1700...  Training loss: 1.5143...  0.3232 sec/batch\n",
      "Epoch: 20/500...  Training Step: 1750...  Training loss: 1.4759...  0.3258 sec/batch\n",
      "Epoch: 21/500...  Training Step: 1800...  Training loss: 1.4743...  0.3276 sec/batch\n",
      "Epoch: 22/500...  Training Step: 1850...  Training loss: 1.4847...  0.3269 sec/batch\n",
      "Epoch: 22/500...  Training Step: 1900...  Training loss: 1.5121...  0.3230 sec/batch\n",
      "Epoch: 23/500...  Training Step: 1950...  Training loss: 1.4074...  0.3213 sec/batch\n",
      "Epoch: 23/500...  Training Step: 2000...  Training loss: 1.4498...  0.3267 sec/batch\n",
      "Epoch: 24/500...  Training Step: 2050...  Training loss: 1.4309...  0.3236 sec/batch\n",
      "Epoch: 24/500...  Training Step: 2100...  Training loss: 1.4386...  0.3242 sec/batch\n",
      "Epoch: 25/500...  Training Step: 2150...  Training loss: 1.4320...  0.3240 sec/batch\n",
      "Epoch: 25/500...  Training Step: 2200...  Training loss: 1.4116...  0.3243 sec/batch\n",
      "Epoch: 26/500...  Training Step: 2250...  Training loss: 1.4237...  0.3280 sec/batch\n",
      "Epoch: 27/500...  Training Step: 2300...  Training loss: 1.4216...  0.3253 sec/batch\n",
      "Epoch: 27/500...  Training Step: 2350...  Training loss: 1.3995...  0.3258 sec/batch\n",
      "Epoch: 28/500...  Training Step: 2400...  Training loss: 1.4022...  0.3235 sec/batch\n",
      "Epoch: 28/500...  Training Step: 2450...  Training loss: 1.3782...  0.3220 sec/batch\n",
      "Epoch: 29/500...  Training Step: 2500...  Training loss: 1.3991...  0.3231 sec/batch\n",
      "Epoch: 29/500...  Training Step: 2550...  Training loss: 1.3701...  0.3245 sec/batch\n",
      "Epoch: 30/500...  Training Step: 2600...  Training loss: 1.3753...  0.3254 sec/batch\n",
      "Epoch: 31/500...  Training Step: 2650...  Training loss: 1.3579...  0.3264 sec/batch\n",
      "Epoch: 31/500...  Training Step: 2700...  Training loss: 1.3953...  0.3278 sec/batch\n",
      "Epoch: 32/500...  Training Step: 2750...  Training loss: 1.3722...  0.3220 sec/batch\n",
      "Epoch: 32/500...  Training Step: 2800...  Training loss: 1.3674...  0.3224 sec/batch\n",
      "Epoch: 33/500...  Training Step: 2850...  Training loss: 1.3123...  0.3264 sec/batch\n",
      "Epoch: 33/500...  Training Step: 2900...  Training loss: 1.3365...  0.3248 sec/batch\n",
      "Epoch: 34/500...  Training Step: 2950...  Training loss: 1.3193...  0.3253 sec/batch\n",
      "Epoch: 35/500...  Training Step: 3000...  Training loss: 1.3266...  0.3241 sec/batch\n",
      "Epoch: 35/500...  Training Step: 3050...  Training loss: 1.3211...  0.3278 sec/batch\n",
      "Epoch: 36/500...  Training Step: 3100...  Training loss: 1.3334...  0.3228 sec/batch\n",
      "Epoch: 36/500...  Training Step: 3150...  Training loss: 1.2859...  0.3227 sec/batch\n",
      "Epoch: 37/500...  Training Step: 3200...  Training loss: 1.3130...  0.3266 sec/batch\n",
      "Epoch: 37/500...  Training Step: 3250...  Training loss: 1.2744...  0.3217 sec/batch\n",
      "Epoch: 38/500...  Training Step: 3300...  Training loss: 1.3110...  0.3278 sec/batch\n",
      "Epoch: 39/500...  Training Step: 3350...  Training loss: 1.2757...  0.3228 sec/batch\n",
      "Epoch: 39/500...  Training Step: 3400...  Training loss: 1.2982...  0.3234 sec/batch\n",
      "Epoch: 40/500...  Training Step: 3450...  Training loss: 1.2541...  0.3214 sec/batch\n",
      "Epoch: 40/500...  Training Step: 3500...  Training loss: 1.2636...  0.3235 sec/batch\n",
      "Epoch: 41/500...  Training Step: 3550...  Training loss: 1.2835...  0.3268 sec/batch\n",
      "Epoch: 41/500...  Training Step: 3600...  Training loss: 1.2440...  0.3262 sec/batch\n",
      "Epoch: 42/500...  Training Step: 3650...  Training loss: 1.2651...  0.3270 sec/batch\n",
      "Epoch: 43/500...  Training Step: 3700...  Training loss: 1.2724...  0.3257 sec/batch\n",
      "Epoch: 43/500...  Training Step: 3750...  Training loss: 1.2519...  0.3238 sec/batch\n",
      "Epoch: 44/500...  Training Step: 3800...  Training loss: 1.2422...  0.3269 sec/batch\n",
      "Epoch: 44/500...  Training Step: 3850...  Training loss: 1.2803...  0.3261 sec/batch\n",
      "Epoch: 45/500...  Training Step: 3900...  Training loss: 1.2677...  0.3263 sec/batch\n",
      "Epoch: 45/500...  Training Step: 3950...  Training loss: 1.2288...  0.3217 sec/batch\n",
      "Epoch: 46/500...  Training Step: 4000...  Training loss: 1.2406...  0.3266 sec/batch\n",
      "Epoch: 47/500...  Training Step: 4050...  Training loss: 1.2465...  0.3283 sec/batch\n",
      "Epoch: 47/500...  Training Step: 4100...  Training loss: 1.2583...  0.3218 sec/batch\n",
      "Epoch: 48/500...  Training Step: 4150...  Training loss: 1.1970...  0.3258 sec/batch\n",
      "Epoch: 48/500...  Training Step: 4200...  Training loss: 1.2304...  0.3250 sec/batch\n",
      "Epoch: 49/500...  Training Step: 4250...  Training loss: 1.2262...  0.3271 sec/batch\n",
      "Epoch: 49/500...  Training Step: 4300...  Training loss: 1.2185...  0.3248 sec/batch\n",
      "Epoch: 50/500...  Training Step: 4350...  Training loss: 1.2194...  0.3225 sec/batch\n",
      "Epoch: 50/500...  Training Step: 4400...  Training loss: 1.1873...  0.3229 sec/batch\n",
      "Epoch: 51/500...  Training Step: 4450...  Training loss: 1.2127...  0.3248 sec/batch\n",
      "Epoch: 52/500...  Training Step: 4500...  Training loss: 1.2216...  0.3234 sec/batch\n",
      "Epoch: 52/500...  Training Step: 4550...  Training loss: 1.1882...  0.3256 sec/batch\n",
      "Epoch: 53/500...  Training Step: 4600...  Training loss: 1.1897...  0.3268 sec/batch\n",
      "Epoch: 53/500...  Training Step: 4650...  Training loss: 1.1893...  0.3258 sec/batch\n",
      "Epoch: 54/500...  Training Step: 4700...  Training loss: 1.1976...  0.3257 sec/batch\n",
      "Epoch: 54/500...  Training Step: 4750...  Training loss: 1.1845...  0.3257 sec/batch\n",
      "Epoch: 55/500...  Training Step: 4800...  Training loss: 1.1888...  0.3222 sec/batch\n",
      "Epoch: 56/500...  Training Step: 4850...  Training loss: 1.1730...  0.3229 sec/batch\n"
     ]
    },
    {
     "name": "stdout",
     "output_type": "stream",
     "text": [
      "Epoch: 56/500...  Training Step: 4900...  Training loss: 1.1941...  0.3228 sec/batch\n",
      "Epoch: 57/500...  Training Step: 4950...  Training loss: 1.1991...  0.3279 sec/batch\n",
      "Epoch: 57/500...  Training Step: 5000...  Training loss: 1.1781...  0.3250 sec/batch\n",
      "Epoch: 58/500...  Training Step: 5050...  Training loss: 1.1562...  0.3220 sec/batch\n",
      "Epoch: 58/500...  Training Step: 5100...  Training loss: 1.1670...  0.3259 sec/batch\n",
      "Epoch: 59/500...  Training Step: 5150...  Training loss: 1.1617...  0.3247 sec/batch\n",
      "Epoch: 60/500...  Training Step: 5200...  Training loss: 1.1632...  0.3221 sec/batch\n",
      "Epoch: 60/500...  Training Step: 5250...  Training loss: 1.1646...  0.3268 sec/batch\n",
      "Epoch: 61/500...  Training Step: 5300...  Training loss: 1.1795...  0.3243 sec/batch\n",
      "Epoch: 61/500...  Training Step: 5350...  Training loss: 1.1429...  0.3222 sec/batch\n",
      "Epoch: 62/500...  Training Step: 5400...  Training loss: 1.1756...  0.3267 sec/batch\n",
      "Epoch: 62/500...  Training Step: 5450...  Training loss: 1.1331...  0.3254 sec/batch\n",
      "Epoch: 63/500...  Training Step: 5500...  Training loss: 1.1693...  0.3260 sec/batch\n",
      "Epoch: 64/500...  Training Step: 5550...  Training loss: 1.1262...  0.3270 sec/batch\n",
      "Epoch: 64/500...  Training Step: 5600...  Training loss: 1.1495...  0.3235 sec/batch\n",
      "Epoch: 65/500...  Training Step: 5650...  Training loss: 1.1257...  0.3265 sec/batch\n",
      "Epoch: 65/500...  Training Step: 5700...  Training loss: 1.1198...  0.3282 sec/batch\n",
      "Epoch: 66/500...  Training Step: 5750...  Training loss: 1.1403...  0.3224 sec/batch\n",
      "Epoch: 66/500...  Training Step: 5800...  Training loss: 1.1029...  0.3228 sec/batch\n",
      "Epoch: 67/500...  Training Step: 5850...  Training loss: 1.1368...  0.3269 sec/batch\n",
      "Epoch: 68/500...  Training Step: 5900...  Training loss: 1.1291...  0.3277 sec/batch\n",
      "Epoch: 68/500...  Training Step: 5950...  Training loss: 1.1191...  0.3267 sec/batch\n",
      "Epoch: 69/500...  Training Step: 6000...  Training loss: 1.1020...  0.3234 sec/batch\n",
      "Epoch: 69/500...  Training Step: 6050...  Training loss: 1.1453...  0.3223 sec/batch\n",
      "Epoch: 70/500...  Training Step: 6100...  Training loss: 1.1274...  0.3231 sec/batch\n",
      "Epoch: 70/500...  Training Step: 6150...  Training loss: 1.1151...  0.3259 sec/batch\n"
     ]
    }
   ],
   "source": [
    "epochs = 500\n",
    "# Print losses every N interations\n",
    "print_every_n = 50\n",
    "\n",
    "# Save every N iterations\n",
    "save_every_n = 200\n",
    "\n",
    "model = CharRNN(len(vocab), batch_size=batch_size, num_steps=num_steps,\n",
    "                lstm_size=lstm_size, num_layers=num_layers, \n",
    "                learning_rate=learning_rate)\n",
    "\n",
    "saver = tf.train.Saver(max_to_keep=100)\n",
    "with tf.Session() as sess:\n",
    "    sess.run(tf.global_variables_initializer())\n",
    "    \n",
    "    # Use the line below to load a checkpoint and resume training\n",
    "    #saver.restore(sess, 'checkpoints/______.ckpt')\n",
    "    counter = 0\n",
    "    for e in range(epochs):\n",
    "        # Train network\n",
    "        new_state = sess.run(model.initial_state)\n",
    "        loss = 0\n",
    "        for x, y in get_batches(encoded, batch_size, num_steps):\n",
    "            counter += 1\n",
    "            start = time.time()\n",
    "            feed = {model.inputs: x,\n",
    "                    model.targets: y,\n",
    "                    model.keep_prob: keep_prob,\n",
    "                    model.initial_state: new_state}\n",
    "            batch_loss, new_state, _ = sess.run([model.loss, \n",
    "                                                 model.final_state, \n",
    "                                                 model.optimizer], \n",
    "                                                 feed_dict=feed)\n",
    "            if (counter % print_every_n == 0):\n",
    "                end = time.time()\n",
    "                print('Epoch: {}/{}... '.format(e+1, epochs),\n",
    "                      'Training Step: {}... '.format(counter),\n",
    "                      'Training loss: {:.4f}... '.format(batch_loss),\n",
    "                      '{:.4f} sec/batch'.format((end-start)))\n",
    "        \n",
    "            if (counter % save_every_n == 0):\n",
    "                saver.save(sess, \"checkpoints/i{}_l{}.ckpt\".format(counter, lstm_size))\n",
    "    \n",
    "    saver.save(sess, \"checkpoints/i{}_l{}.ckpt\".format(counter, lstm_size))"
   ]
  },
  {
   "cell_type": "markdown",
   "metadata": {},
   "source": [
    "#### Saved checkpoints"
   ]
  },
  {
   "cell_type": "code",
   "execution_count": 17,
   "metadata": {},
   "outputs": [
    {
     "data": {
      "text/plain": [
       "model_checkpoint_path: \"checkpoints/i9600_l512.ckpt\"\n",
       "all_model_checkpoint_paths: \"checkpoints/i200_l512.ckpt\"\n",
       "all_model_checkpoint_paths: \"checkpoints/i400_l512.ckpt\"\n",
       "all_model_checkpoint_paths: \"checkpoints/i600_l512.ckpt\"\n",
       "all_model_checkpoint_paths: \"checkpoints/i800_l512.ckpt\"\n",
       "all_model_checkpoint_paths: \"checkpoints/i1000_l512.ckpt\"\n",
       "all_model_checkpoint_paths: \"checkpoints/i1200_l512.ckpt\"\n",
       "all_model_checkpoint_paths: \"checkpoints/i1400_l512.ckpt\"\n",
       "all_model_checkpoint_paths: \"checkpoints/i1600_l512.ckpt\"\n",
       "all_model_checkpoint_paths: \"checkpoints/i1800_l512.ckpt\"\n",
       "all_model_checkpoint_paths: \"checkpoints/i2000_l512.ckpt\"\n",
       "all_model_checkpoint_paths: \"checkpoints/i2200_l512.ckpt\"\n",
       "all_model_checkpoint_paths: \"checkpoints/i2400_l512.ckpt\"\n",
       "all_model_checkpoint_paths: \"checkpoints/i2600_l512.ckpt\"\n",
       "all_model_checkpoint_paths: \"checkpoints/i2800_l512.ckpt\"\n",
       "all_model_checkpoint_paths: \"checkpoints/i3000_l512.ckpt\"\n",
       "all_model_checkpoint_paths: \"checkpoints/i3200_l512.ckpt\"\n",
       "all_model_checkpoint_paths: \"checkpoints/i3400_l512.ckpt\"\n",
       "all_model_checkpoint_paths: \"checkpoints/i3600_l512.ckpt\"\n",
       "all_model_checkpoint_paths: \"checkpoints/i3800_l512.ckpt\"\n",
       "all_model_checkpoint_paths: \"checkpoints/i4000_l512.ckpt\"\n",
       "all_model_checkpoint_paths: \"checkpoints/i4200_l512.ckpt\"\n",
       "all_model_checkpoint_paths: \"checkpoints/i4400_l512.ckpt\"\n",
       "all_model_checkpoint_paths: \"checkpoints/i4600_l512.ckpt\"\n",
       "all_model_checkpoint_paths: \"checkpoints/i4800_l512.ckpt\"\n",
       "all_model_checkpoint_paths: \"checkpoints/i5000_l512.ckpt\"\n",
       "all_model_checkpoint_paths: \"checkpoints/i5200_l512.ckpt\"\n",
       "all_model_checkpoint_paths: \"checkpoints/i5400_l512.ckpt\"\n",
       "all_model_checkpoint_paths: \"checkpoints/i5600_l512.ckpt\"\n",
       "all_model_checkpoint_paths: \"checkpoints/i5800_l512.ckpt\"\n",
       "all_model_checkpoint_paths: \"checkpoints/i6000_l512.ckpt\"\n",
       "all_model_checkpoint_paths: \"checkpoints/i6200_l512.ckpt\"\n",
       "all_model_checkpoint_paths: \"checkpoints/i6400_l512.ckpt\"\n",
       "all_model_checkpoint_paths: \"checkpoints/i6600_l512.ckpt\"\n",
       "all_model_checkpoint_paths: \"checkpoints/i6800_l512.ckpt\"\n",
       "all_model_checkpoint_paths: \"checkpoints/i7000_l512.ckpt\"\n",
       "all_model_checkpoint_paths: \"checkpoints/i7200_l512.ckpt\"\n",
       "all_model_checkpoint_paths: \"checkpoints/i7400_l512.ckpt\"\n",
       "all_model_checkpoint_paths: \"checkpoints/i7600_l512.ckpt\"\n",
       "all_model_checkpoint_paths: \"checkpoints/i7800_l512.ckpt\"\n",
       "all_model_checkpoint_paths: \"checkpoints/i8000_l512.ckpt\"\n",
       "all_model_checkpoint_paths: \"checkpoints/i8200_l512.ckpt\"\n",
       "all_model_checkpoint_paths: \"checkpoints/i8400_l512.ckpt\"\n",
       "all_model_checkpoint_paths: \"checkpoints/i8600_l512.ckpt\"\n",
       "all_model_checkpoint_paths: \"checkpoints/i8800_l512.ckpt\"\n",
       "all_model_checkpoint_paths: \"checkpoints/i9000_l512.ckpt\"\n",
       "all_model_checkpoint_paths: \"checkpoints/i9200_l512.ckpt\"\n",
       "all_model_checkpoint_paths: \"checkpoints/i9400_l512.ckpt\"\n",
       "all_model_checkpoint_paths: \"checkpoints/i9600_l512.ckpt\""
      ]
     },
     "execution_count": 17,
     "metadata": {},
     "output_type": "execute_result"
    }
   ],
   "source": [
    "tf.train.get_checkpoint_state('checkpoints')"
   ]
  },
  {
   "cell_type": "markdown",
   "metadata": {},
   "source": [
    "## Sampling\n",
    "\n",
    "Now that the network is trained, we'll can use it to generate new text. The idea is that we pass in a character, then the network will predict the next character. We can use the new one, to predict the next one. And we keep doing this to generate all new text. I also included some functionality to prime the network with some text by passing in a string and building up a state from that.\n",
    "\n",
    "The network gives us predictions for each character. To reduce noise and make things a little less random, I'm going to only choose a new character from the top N most likely characters.\n",
    "\n"
   ]
  },
  {
   "cell_type": "code",
   "execution_count": 18,
   "metadata": {},
   "outputs": [],
   "source": [
    "def pick_top_n(preds, vocab_size, top_n=5):\n",
    "    p = np.squeeze(preds)\n",
    "    p[np.argsort(p)[:-top_n]] = 0\n",
    "    p = p / np.sum(p)\n",
    "    c = np.random.choice(vocab_size, 1, p=p)[0]\n",
    "    return c"
   ]
  },
  {
   "cell_type": "code",
   "execution_count": 19,
   "metadata": {},
   "outputs": [],
   "source": [
    "def sample(checkpoint, n_samples, lstm_size, vocab_size, prime=\"The \"):\n",
    "    samples = [c for c in prime]\n",
    "    model = CharRNN(len(vocab), lstm_size=lstm_size, sampling=True)\n",
    "    saver = tf.train.Saver()\n",
    "    with tf.Session() as sess:\n",
    "        saver.restore(sess, checkpoint)\n",
    "        new_state = sess.run(model.initial_state)\n",
    "        for c in prime:\n",
    "            x = np.zeros((1, 1))\n",
    "            x[0,0] = vocab_to_int[c]\n",
    "            feed = {model.inputs: x,\n",
    "                    model.keep_prob: 1.,\n",
    "                    model.initial_state: new_state}\n",
    "            preds, new_state = sess.run([model.prediction, model.final_state], \n",
    "                                         feed_dict=feed)\n",
    "\n",
    "        c = pick_top_n(preds, len(vocab))\n",
    "        samples.append(int_to_vocab[c])\n",
    "\n",
    "        for i in range(n_samples):\n",
    "            x[0,0] = c\n",
    "            feed = {model.inputs: x,\n",
    "                    model.keep_prob: 1.,\n",
    "                    model.initial_state: new_state}\n",
    "            preds, new_state = sess.run([model.prediction, model.final_state], \n",
    "                                         feed_dict=feed)\n",
    "\n",
    "            c = pick_top_n(preds, len(vocab))\n",
    "            samples.append(int_to_vocab[c])\n",
    "        \n",
    "    return ''.join(samples)"
   ]
  },
  {
   "cell_type": "markdown",
   "metadata": {},
   "source": [
    "Here, pass in the path to a checkpoint and sample from the network."
   ]
  },
  {
   "cell_type": "code",
   "execution_count": 20,
   "metadata": {},
   "outputs": [
    {
     "data": {
      "text/plain": [
       "'checkpoints/i9600_l512.ckpt'"
      ]
     },
     "execution_count": 20,
     "metadata": {},
     "output_type": "execute_result"
    }
   ],
   "source": [
    "tf.train.latest_checkpoint('checkpoints')"
   ]
  },
  {
   "cell_type": "code",
   "execution_count": 72,
   "metadata": {},
   "outputs": [
    {
     "name": "stdout",
     "output_type": "stream",
     "text": [
      "Njeriu qe kishte \n",
      "mos e lente te gjithe ne fjalet e te celit te kureshtjes, per \n",
      "menxoncat, dhe kishin pasur nje myre ja shume me mendjen e \n",
      "tij? Ndasheone me kete, por kaq vajtoni. Katundi per \n",
      "ajo njeri pjere imshem. Ate mjeft nje derendajle te ngul\n",
      "\n",
      "\n",
      "\f",
      "anda qe, sipaq i shkreti, sidomos sipas kanucit, por ai ishte \n",
      "mire qaske dhe ne te gjitha ajer, prane ato fleheje qe drejt \n",
      "tyre, sic duket e zgjatesha.S'kam ardhur atje porse kishte \n",
      "njoftim, por njeletjeset, kur mbari kur e kishte marre krahun me te \n",
      "cilin njeriu qe po kryqet. \n",
      "\n",
      "Kanuni kishte pershkueshem pastaj shume me ne fund. \n",
      " S'kushe trumbllisi, apothaven e keshtu me rruge, \n",
      "dasha. Dukej sikur vertiteti te metronjet. Kush e kim nevajut? \n",
      "Ata e veshtroi menjehere. \n",
      "\n",
      "Paktazet. Ai u kthy nje levizje e vogel te piote, \n",
      "sikur ta distimnin. \n",
      "\n",
      "Por kjo eshte e cidijur shkonte gjer ne me \n",
      "te aterruksin e tij. \n",
      " Ataj degjohej me e panjohurin, thuase ne kembe, \n",
      "me nje fustan e nderi ne mendje. \n",
      "\n",
      " Si eshte e mundur qe jame keshtu?e pyeti pas \n",
      "meqi e si te kuptonte se nje nderhyrje me topes. \n",
      " Ne kuptin ne kapi per thene e tij me pare nga nate, \n",
      "po je te mire. \n",
      "Ajo i vazhduan me ngulm dhe veshtroi nje cope here \n",
      "arment qe te dinin me kembe, por ata nash nje sollinje \n",
      "te ngushte gjate. \n",
      "Si thua se keti jane mbine te gjitha ate qe monratore \n",
      "do te ne kishen per ta shkuar apo disa kujtesa per ta. \n",
      "\n",
      "Per nda ne balte endrra dhe te shekullit portaze ne karrocen \n",
      "dhe me nje bure, por me te vizet e tyre prape, kryesisht \n",
      "tani mbi fytyren aty perpara tij, por ai e nistuppe. \n",
      "\n",
      "Te gjitha kete bujt! \n",
      "\n",
      "Ai mbari me te panjohurit. \n",
      "\n",
      "Ai e kap ceber nga kunetatia e proncitjes dhe ngjiti \n",
      "shume njerez. Me sa dhe nje dimer? \n",
      "Duke ecur drejt tjeter per te kundertan. \n",
      " Ashtu eshte,uajzotratinenti kishen kishte folur \n",
      "prapa pak,vazedoi ai. \n",
      " Ka ndonje putur, te kujtoheshmi, ai ishte nje per \n",
      "keshtim, si mendoi pastai me llongj dhe per ta. \n",
      "\n",
      "\f",
      "\n",
      " Ka kulla e Orokes? \n",
      " Ndihmesi per ta bjerr. \n",
      "\n",
      "Nderta perciktehete pelurimi per te pare mua. Kjo \n",
      "eshte gja\n"
     ]
    }
   ],
   "source": [
    "checkpoint = tf.train.latest_checkpoint('checkpoints')\n",
    "samp = sample(checkpoint, 2000, lstm_size, len(vocab), prime=\"Njeriu\")\n",
    "print(samp)"
   ]
  },
  {
   "cell_type": "code",
   "execution_count": null,
   "metadata": {},
   "outputs": [],
   "source": []
  }
 ],
 "metadata": {
  "kernelspec": {
   "display_name": "Python 3",
   "language": "python",
   "name": "python3"
  },
  "language_info": {
   "codemirror_mode": {
    "name": "ipython",
    "version": 3
   },
   "file_extension": ".py",
   "mimetype": "text/x-python",
   "name": "python",
   "nbconvert_exporter": "python",
   "pygments_lexer": "ipython3",
   "version": "3.5.2"
  }
 },
 "nbformat": 4,
 "nbformat_minor": 2
}
