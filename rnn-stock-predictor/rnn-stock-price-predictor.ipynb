{
 "cells": [
  {
   "cell_type": "markdown",
   "metadata": {
    "deletable": true,
    "editable": true
   },
   "source": [
    "# Recurrent Neural Network for Stock Price Prediction\n"
   ]
  },
  {
   "cell_type": "code",
   "execution_count": 1,
   "metadata": {
    "collapsed": false,
    "deletable": true,
    "editable": true
   },
   "outputs": [],
   "source": [
    "import pandas as pd\n",
    "import pandas_datareader.data as web\n",
    "import datetime\n",
    "\n",
    "start = datetime.datetime(2017, 1, 1)\n",
    "end = datetime.date.today()\n",
    "\n",
    "# Read the stock data for Apple\n",
    "apple = web.DataReader('AAPL', 'morningstar', start, end)"
   ]
  },
  {
   "cell_type": "code",
   "execution_count": 2,
   "metadata": {
    "collapsed": false,
    "deletable": true,
    "editable": true
   },
   "outputs": [
    {
     "data": {
      "text/html": [
       "<div>\n",
       "<style scoped>\n",
       "    .dataframe tbody tr th:only-of-type {\n",
       "        vertical-align: middle;\n",
       "    }\n",
       "\n",
       "    .dataframe tbody tr th {\n",
       "        vertical-align: top;\n",
       "    }\n",
       "\n",
       "    .dataframe thead th {\n",
       "        text-align: right;\n",
       "    }\n",
       "</style>\n",
       "<table border=\"1\" class=\"dataframe\">\n",
       "  <thead>\n",
       "    <tr style=\"text-align: right;\">\n",
       "      <th></th>\n",
       "      <th></th>\n",
       "      <th>Close</th>\n",
       "      <th>High</th>\n",
       "      <th>Low</th>\n",
       "      <th>Open</th>\n",
       "      <th>Volume</th>\n",
       "    </tr>\n",
       "    <tr>\n",
       "      <th>Symbol</th>\n",
       "      <th>Date</th>\n",
       "      <th></th>\n",
       "      <th></th>\n",
       "      <th></th>\n",
       "      <th></th>\n",
       "      <th></th>\n",
       "    </tr>\n",
       "  </thead>\n",
       "  <tbody>\n",
       "    <tr>\n",
       "      <th rowspan=\"5\" valign=\"top\">AAPL</th>\n",
       "      <th>2017-01-02</th>\n",
       "      <td>115.82</td>\n",
       "      <td>115.8200</td>\n",
       "      <td>115.82</td>\n",
       "      <td>115.82</td>\n",
       "      <td>0</td>\n",
       "    </tr>\n",
       "    <tr>\n",
       "      <th>2017-01-03</th>\n",
       "      <td>116.15</td>\n",
       "      <td>116.3300</td>\n",
       "      <td>114.76</td>\n",
       "      <td>115.80</td>\n",
       "      <td>28781865</td>\n",
       "    </tr>\n",
       "    <tr>\n",
       "      <th>2017-01-04</th>\n",
       "      <td>116.02</td>\n",
       "      <td>116.5100</td>\n",
       "      <td>115.75</td>\n",
       "      <td>115.85</td>\n",
       "      <td>21118116</td>\n",
       "    </tr>\n",
       "    <tr>\n",
       "      <th>2017-01-05</th>\n",
       "      <td>116.61</td>\n",
       "      <td>116.8642</td>\n",
       "      <td>115.81</td>\n",
       "      <td>115.92</td>\n",
       "      <td>22193587</td>\n",
       "    </tr>\n",
       "    <tr>\n",
       "      <th>2017-01-06</th>\n",
       "      <td>117.91</td>\n",
       "      <td>118.1600</td>\n",
       "      <td>116.47</td>\n",
       "      <td>116.78</td>\n",
       "      <td>31751900</td>\n",
       "    </tr>\n",
       "  </tbody>\n",
       "</table>\n",
       "</div>"
      ],
      "text/plain": [
       "                    Close      High     Low    Open    Volume\n",
       "Symbol Date                                                  \n",
       "AAPL   2017-01-02  115.82  115.8200  115.82  115.82         0\n",
       "       2017-01-03  116.15  116.3300  114.76  115.80  28781865\n",
       "       2017-01-04  116.02  116.5100  115.75  115.85  21118116\n",
       "       2017-01-05  116.61  116.8642  115.81  115.92  22193587\n",
       "       2017-01-06  117.91  118.1600  116.47  116.78  31751900"
      ]
     },
     "execution_count": 2,
     "metadata": {},
     "output_type": "execute_result"
    }
   ],
   "source": [
    "apple.head()"
   ]
  },
  {
   "cell_type": "code",
   "execution_count": 3,
   "metadata": {
    "collapsed": false,
    "deletable": true,
    "editable": true
   },
   "outputs": [
    {
     "data": {
      "text/html": [
       "<div>\n",
       "<style scoped>\n",
       "    .dataframe tbody tr th:only-of-type {\n",
       "        vertical-align: middle;\n",
       "    }\n",
       "\n",
       "    .dataframe tbody tr th {\n",
       "        vertical-align: top;\n",
       "    }\n",
       "\n",
       "    .dataframe thead th {\n",
       "        text-align: right;\n",
       "    }\n",
       "</style>\n",
       "<table border=\"1\" class=\"dataframe\">\n",
       "  <thead>\n",
       "    <tr style=\"text-align: right;\">\n",
       "      <th></th>\n",
       "      <th></th>\n",
       "      <th>Close</th>\n",
       "      <th>High</th>\n",
       "      <th>Low</th>\n",
       "      <th>Open</th>\n",
       "      <th>Volume</th>\n",
       "    </tr>\n",
       "    <tr>\n",
       "      <th>Symbol</th>\n",
       "      <th>Date</th>\n",
       "      <th></th>\n",
       "      <th></th>\n",
       "      <th></th>\n",
       "      <th></th>\n",
       "      <th></th>\n",
       "    </tr>\n",
       "  </thead>\n",
       "  <tbody>\n",
       "    <tr>\n",
       "      <th rowspan=\"5\" valign=\"top\">AAPL</th>\n",
       "      <th>2017-01-03</th>\n",
       "      <td>116.15</td>\n",
       "      <td>116.3300</td>\n",
       "      <td>114.76</td>\n",
       "      <td>115.80</td>\n",
       "      <td>28781865</td>\n",
       "    </tr>\n",
       "    <tr>\n",
       "      <th>2017-01-04</th>\n",
       "      <td>116.02</td>\n",
       "      <td>116.5100</td>\n",
       "      <td>115.75</td>\n",
       "      <td>115.85</td>\n",
       "      <td>21118116</td>\n",
       "    </tr>\n",
       "    <tr>\n",
       "      <th>2017-01-05</th>\n",
       "      <td>116.61</td>\n",
       "      <td>116.8642</td>\n",
       "      <td>115.81</td>\n",
       "      <td>115.92</td>\n",
       "      <td>22193587</td>\n",
       "    </tr>\n",
       "    <tr>\n",
       "      <th>2017-01-06</th>\n",
       "      <td>117.91</td>\n",
       "      <td>118.1600</td>\n",
       "      <td>116.47</td>\n",
       "      <td>116.78</td>\n",
       "      <td>31751900</td>\n",
       "    </tr>\n",
       "    <tr>\n",
       "      <th>2017-01-09</th>\n",
       "      <td>118.99</td>\n",
       "      <td>119.4300</td>\n",
       "      <td>117.94</td>\n",
       "      <td>117.95</td>\n",
       "      <td>33561948</td>\n",
       "    </tr>\n",
       "  </tbody>\n",
       "</table>\n",
       "</div>"
      ],
      "text/plain": [
       "                    Close      High     Low    Open    Volume\n",
       "Symbol Date                                                  \n",
       "AAPL   2017-01-03  116.15  116.3300  114.76  115.80  28781865\n",
       "       2017-01-04  116.02  116.5100  115.75  115.85  21118116\n",
       "       2017-01-05  116.61  116.8642  115.81  115.92  22193587\n",
       "       2017-01-06  117.91  118.1600  116.47  116.78  31751900\n",
       "       2017-01-09  118.99  119.4300  117.94  117.95  33561948"
      ]
     },
     "execution_count": 3,
     "metadata": {},
     "output_type": "execute_result"
    }
   ],
   "source": [
    "# Drop Rows which have Volume=0\n",
    "apple = apple[apple.Volume != 0]\n",
    "apple.head()"
   ]
  },
  {
   "cell_type": "code",
   "execution_count": 4,
   "metadata": {
    "collapsed": false,
    "deletable": true,
    "editable": true
   },
   "outputs": [
    {
     "name": "stdout",
     "output_type": "stream",
     "text": [
      "[[ 116.15]\n",
      " [ 116.02]\n",
      " [ 116.61]\n",
      " [ 117.91]\n",
      " [ 118.99]]\n"
     ]
    }
   ],
   "source": [
    "# We are going to use only the close price\n",
    "close = apple.as_matrix(columns={'Close'})\n",
    "print(close[:5])"
   ]
  },
  {
   "cell_type": "code",
   "execution_count": 11,
   "metadata": {
    "collapsed": false,
    "deletable": true,
    "editable": true
   },
   "outputs": [],
   "source": [
    "import tensorflow as tf\n",
    "import numpy as np\n",
    "\n",
    "tf.reset_default_graph()\n",
    "\n",
    "n_steps = 20\n",
    "n_inputs = 1\n",
    "n_neurons = 100\n",
    "n_outputs = 1\n",
    "\n",
    "X = tf.placeholder(tf.float32, [None, n_steps, n_inputs])\n",
    "y = tf.placeholder(tf.float32, [None, n_steps, n_outputs])\n",
    "\n",
    "rnn_cell = tf.contrib.rnn.BasicRNNCell(num_units=n_neurons, activation=tf.nn.relu)\n",
    "wrapper = tf.contrib.rnn.OutputProjectionWrapper(rnn_cell, output_size=n_outputs)\n",
    "outputs, states = tf.nn.dynamic_rnn(wrapper, X, dtype=tf.float32)\n",
    "\n",
    "learning_rate = 0.001\n",
    "\n",
    "loss = tf.reduce_mean(tf.square(outputs - y))\n",
    "optimizer = tf.train.AdamOptimizer(learning_rate=learning_rate)\n",
    "training_op = optimizer.minimize(loss)\n",
    "\n",
    "init = tf.global_variables_initializer()"
   ]
  },
  {
   "cell_type": "code",
   "execution_count": 12,
   "metadata": {
    "collapsed": false,
    "deletable": true,
    "editable": true
   },
   "outputs": [
    {
     "name": "stdout",
     "output_type": "stream",
     "text": [
      "[[ 116.02]\n",
      " [ 116.61]\n",
      " [ 117.91]\n",
      " [ 118.99]\n",
      " [ 119.11]]\n"
     ]
    }
   ],
   "source": [
    "target = np.roll(close, -1)\n",
    "print(target[:5])"
   ]
  },
  {
   "cell_type": "code",
   "execution_count": 22,
   "metadata": {
    "collapsed": false,
    "deletable": true,
    "editable": true
   },
   "outputs": [],
   "source": [
    "input_batches = []\n",
    "target_batches = []\n",
    "\n",
    "# Create mini batches\n",
    "number_of_batches = len(close) // n_steps\n",
    "for index in range(0, number_of_batches * n_steps, number_of_batches):\n",
    "    input_batches.append(close[index:index+n_steps])\n",
    "    target_batches.append(target[index:index+n_steps])"
   ]
  },
  {
   "cell_type": "code",
   "execution_count": 30,
   "metadata": {
    "collapsed": false,
    "deletable": true,
    "editable": true
   },
   "outputs": [
    {
     "name": "stdout",
     "output_type": "stream",
     "text": [
      "0 \tMSE: 8943.48\n",
      "1000 \tMSE: 4.06036\n",
      "2000 \tMSE: 3.72489\n",
      "3000 \tMSE: 3.03123\n",
      "4000 \tMSE: 2.8745\n",
      "5000 \tMSE: 2.76723\n",
      "6000 \tMSE: 2.49549\n",
      "7000 \tMSE: 2.3575\n",
      "8000 \tMSE: 2.37196\n",
      "9000 \tMSE: 2.03622\n",
      "10000 \tMSE: 2.14894\n",
      "11000 \tMSE: 2.00528\n",
      "12000 \tMSE: 1.81256\n",
      "13000 \tMSE: 1.99272\n",
      "14000 \tMSE: 1.64617\n",
      "15000 \tMSE: 1.58467\n",
      "16000 \tMSE: 1.55382\n",
      "17000 \tMSE: 1.45396\n",
      "18000 \tMSE: 1.49096\n",
      "19000 \tMSE: 1.35911\n",
      "20000 \tMSE: 1.58131\n",
      "21000 \tMSE: 1.34705\n",
      "22000 \tMSE: 1.32284\n",
      "23000 \tMSE: 1.22176\n",
      "24000 \tMSE: 1.21376\n",
      "25000 \tMSE: 1.15275\n",
      "26000 \tMSE: 1.53072\n",
      "27000 \tMSE: 1.15676\n",
      "28000 \tMSE: 1.0853\n",
      "29000 \tMSE: 1.0841\n",
      "30000 \tMSE: 1.57891\n",
      "31000 \tMSE: 1.20809\n",
      "32000 \tMSE: 1.0868\n",
      "33000 \tMSE: 1.18509\n",
      "34000 \tMSE: 1.04695\n",
      "35000 \tMSE: 1.01517\n",
      "36000 \tMSE: 0.955781\n",
      "37000 \tMSE: 0.936446\n",
      "38000 \tMSE: 0.93772\n",
      "39000 \tMSE: 0.904414\n",
      "40000 \tMSE: 0.945975\n",
      "41000 \tMSE: 0.890679\n",
      "42000 \tMSE: 0.868857\n",
      "43000 \tMSE: 0.854086\n",
      "44000 \tMSE: 0.903718\n",
      "45000 \tMSE: 0.908915\n",
      "46000 \tMSE: 0.943158\n",
      "47000 \tMSE: 1.02315\n",
      "48000 \tMSE: 0.838597\n",
      "49000 \tMSE: 0.868442\n",
      "50000 \tMSE: 0.816006\n",
      "51000 \tMSE: 0.817761\n",
      "52000 \tMSE: 0.786184\n",
      "53000 \tMSE: 0.79003\n",
      "54000 \tMSE: 0.80912\n",
      "55000 \tMSE: 0.796442\n",
      "56000 \tMSE: 0.802843\n",
      "57000 \tMSE: 1.894\n",
      "58000 \tMSE: 0.740478\n",
      "59000 \tMSE: 0.799116\n",
      "60000 \tMSE: 0.761088\n",
      "61000 \tMSE: 0.735449\n",
      "62000 \tMSE: 0.782336\n",
      "63000 \tMSE: 0.71047\n",
      "64000 \tMSE: 0.719644\n",
      "65000 \tMSE: 0.726911\n",
      "66000 \tMSE: 0.711664\n",
      "67000 \tMSE: 0.69372\n",
      "68000 \tMSE: 0.672487\n",
      "69000 \tMSE: 0.69578\n",
      "70000 \tMSE: 0.687445\n",
      "71000 \tMSE: 0.647806\n",
      "72000 \tMSE: 0.640479\n",
      "73000 \tMSE: 0.664945\n",
      "74000 \tMSE: 0.708403\n",
      "75000 \tMSE: 0.64442\n",
      "76000 \tMSE: 0.797186\n",
      "77000 \tMSE: 0.636693\n",
      "78000 \tMSE: 0.610402\n",
      "79000 \tMSE: 0.611441\n",
      "80000 \tMSE: 0.673565\n",
      "81000 \tMSE: 0.618378\n",
      "82000 \tMSE: 0.758406\n",
      "83000 \tMSE: 0.644661\n",
      "84000 \tMSE: 0.573355\n",
      "85000 \tMSE: 0.612111\n",
      "86000 \tMSE: 0.691198\n",
      "87000 \tMSE: 0.567181\n",
      "88000 \tMSE: 0.583747\n",
      "89000 \tMSE: 0.680522\n",
      "90000 \tMSE: 0.568678\n",
      "91000 \tMSE: 0.563225\n",
      "92000 \tMSE: 0.554384\n",
      "93000 \tMSE: 0.565094\n",
      "94000 \tMSE: 0.69445\n",
      "95000 \tMSE: 0.522611\n",
      "96000 \tMSE: 0.536107\n",
      "97000 \tMSE: 2.76167\n",
      "98000 \tMSE: 0.642392\n",
      "99000 \tMSE: 0.561579\n"
     ]
    }
   ],
   "source": [
    "n_iterations = 100000\n",
    "batch_size = 50\n",
    "\n",
    "saver = tf.train.Saver()\n",
    "\n",
    "with tf.Session() as sess:\n",
    "    init.run()\n",
    "    for iteration in range(n_iterations):\n",
    "        X_batch, y_batch = input_batches, target_batches\n",
    "        sess.run(training_op, feed_dict={X: X_batch, y: y_batch})\n",
    "        if iteration % 1000 == 0:\n",
    "            mse = loss.eval(feed_dict={X: X_batch, y: y_batch})\n",
    "            print(iteration, '\\tMSE:', mse)\n",
    "            \n",
    "    saver.save(sess, \"./checkpoints/model\")"
   ]
  },
  {
   "cell_type": "code",
   "execution_count": 31,
   "metadata": {
    "collapsed": false,
    "deletable": true,
    "editable": true
   },
   "outputs": [
    {
     "name": "stdout",
     "output_type": "stream",
     "text": [
      "[[ 168.38]\n",
      " [ 170.05]\n",
      " [ 173.25]\n",
      " [ 172.44]\n",
      " [ 174.14]\n",
      " [ 174.73]\n",
      " [ 175.82]\n",
      " [ 178.24]\n",
      " [ 177.84]\n",
      " [ 172.8 ]\n",
      " [ 165.72]\n",
      " [ 165.24]\n",
      " [ 162.94]\n",
      " [ 163.65]\n",
      " [ 164.22]\n",
      " [ 162.32]\n",
      " [ 165.26]\n",
      " [ 169.1 ]\n",
      " [ 176.57]\n",
      " [ 176.89]]\n"
     ]
    }
   ],
   "source": [
    "last_20_days = close[-20:]\n",
    "print(last_20_days)"
   ]
  },
  {
   "cell_type": "code",
   "execution_count": 32,
   "metadata": {
    "collapsed": false,
    "deletable": true,
    "editable": true
   },
   "outputs": [
    {
     "name": "stdout",
     "output_type": "stream",
     "text": [
      "[ 168.01113892  170.17652893  172.03794861  171.21899414  178.40826416\n",
      "  172.67782593  171.6645813   181.68066406  178.75254822  168.13908386\n",
      "  165.53318787  163.20724487  169.33084106  158.42385864  164.8168335\n",
      "  160.72160339  169.52362061  174.09469604  171.31887817  180.17338562]\n"
     ]
    }
   ],
   "source": [
    "# Use the RNN to predict the stock price\n",
    "with tf.Session() as sess:\n",
    "    saver.restore(sess, \"./checkpoints/model\")\n",
    "    y_pred = sess.run(outputs, feed_dict={X: [last_20_days]})\n",
    "\n",
    "y_pred = y_pred.flatten()\n",
    "print(y_pred)"
   ]
  },
  {
   "cell_type": "code",
   "execution_count": 33,
   "metadata": {
    "collapsed": false,
    "deletable": true,
    "editable": true
   },
   "outputs": [
    {
     "name": "stdout",
     "output_type": "stream",
     "text": [
      "[ 170.05  173.25  172.44  174.14  174.73  175.82  178.24  177.84  172.8\n",
      "  165.72  165.24  162.94  163.65  164.22  162.32  165.26  169.1   176.57\n",
      "  176.89  178.9 ]\n"
     ]
    }
   ],
   "source": [
    "target_incl_current = np.append(last_20_days[1:], 178.9)\n",
    "print(target_incl_current)"
   ]
  },
  {
   "cell_type": "code",
   "execution_count": 34,
   "metadata": {
    "collapsed": false,
    "deletable": true,
    "editable": true
   },
   "outputs": [
    {
     "name": "stdout",
     "output_type": "stream",
     "text": [
      "[ 2.03886108  3.07347107  0.40205139  2.92100586 -3.67826416  3.14217407\n",
      "  6.5754187  -3.84066406 -5.95254822 -2.41908386 -0.29318787 -0.26724487\n",
      " -5.68084106  5.79614136 -2.4968335   4.53839661 -0.42362061  2.47530396\n",
      "  5.57112183 -1.27338562]\n"
     ]
    }
   ],
   "source": [
    "error = target_incl_current - y_pred\n",
    "print(error)"
   ]
  },
  {
   "cell_type": "code",
   "execution_count": 35,
   "metadata": {
    "collapsed": false,
    "deletable": true,
    "editable": true
   },
   "outputs": [
    {
     "name": "stdout",
     "output_type": "stream",
     "text": [
      "['09/04', '10/04', '11/04', '12/04', '13/04', '16/04', '17/04', '18/04', '19/04', '20/04', '23/04', '24/04', '25/04', '26/04', '27/04', '30/04', '01/05', '02/05', '03/05', '04/05']\n"
     ]
    }
   ],
   "source": [
    "# Create Labels for the X axis\n",
    "x_labels = []\n",
    "\n",
    "for element in apple.index.get_values()[-19:]:\n",
    "    x_labels.append(element[1].date().strftime('%d/%m'))\n",
    "\n",
    "# Add the last day\n",
    "x_labels.append(datetime.date(2018, 5, 4).strftime('%d/%m'))\n",
    "    \n",
    "print(x_labels)"
   ]
  },
  {
   "cell_type": "code",
   "execution_count": 36,
   "metadata": {
    "collapsed": false,
    "deletable": true,
    "editable": true
   },
   "outputs": [
    {
     "data": {
      "image/png": "[encoded data removed]",
      "text/plain": [
       "<Figure size 864x576 with 1 Axes>"
      ]
     },
     "metadata": {},
     "output_type": "display_data"
    }
   ],
   "source": [
    "import matplotlib.pyplot as plt\n",
    "\n",
    "plt.figure(figsize=(12,8))\n",
    "\n",
    "plt.plot(x_labels, target_incl_current, 'ro', label='target', linestyle='dashed')\n",
    "plt.plot(x_labels, y_pred, 's', label='prediction', linestyle='dashed')\n",
    "plt.legend()\n",
    "\n",
    "plt.grid(b=True, linestyle='--')\n",
    "\n",
    "plt.show()"
   ]
  }
 ],
 "metadata": {
  "kernelspec": {
   "display_name": "Python 3",
   "language": "python",
   "name": "python3"
  },
  "language_info": {
   "codemirror_mode": {
    "name": "ipython",
    "version": 3
   },
   "file_extension": ".py",
   "mimetype": "text/x-python",
   "name": "python",
   "nbconvert_exporter": "python",
   "pygments_lexer": "ipython3",
   "version": "3.6.4"
  }
 },
 "nbformat": 4,
 "nbformat_minor": 2
}
