{
 "cells": [
  {
   "cell_type": "markdown",
   "metadata": {},
   "source": [
    "# Simple 3 steps RNN\n",
    "\n",
    "(Based on Hands-On Machine Learning of Auriél Géron)"
   ]
  },
  {
   "cell_type": "markdown",
   "metadata": {},
   "source": [
    " ### Forward pass without using any of TensorFlow's RNN operations"
   ]
  },
  {
   "cell_type": "code",
   "execution_count": 55,
   "metadata": {
    "collapsed": false
   },
   "outputs": [
    {
     "name": "stdout",
     "output_type": "stream",
     "text": [
      "output at time step 0 \n",
      " [[-0.95407802 -0.99674022  0.98660398  0.57785892 -0.98755085]\n",
      " [-0.30700076 -0.99999917  0.99999976  0.63324869 -0.99999374]\n",
      " [ 0.8457135  -1.          1.          0.68283153 -1.        ]\n",
      " [ 1.         -0.99766296  1.         -0.99999917 -0.98221558]]\n",
      "output at time step 1 \n",
      " [[ 0.99872833 -1.          1.         -0.99214447 -1.        ]\n",
      " [-0.96752214 -0.9684667   0.99960893 -0.99444956 -0.89819932]\n",
      " [ 0.99972194 -0.99999893  1.         -0.99968082 -0.99999726]\n",
      " [ 0.99847519 -0.99978107  0.99999833 -0.99886143 -0.11810157]]\n",
      "output at time step 2 \n",
      " [[ 0.58409685 -0.99991119  0.99998206 -0.99647796 -0.11304511]\n",
      " [-0.88040298 -0.99998939  0.99997598 -0.87694168 -0.8552171 ]\n",
      " [ 0.93676627 -0.99999976  1.         -0.99602008 -0.98977089]\n",
      " [ 0.98058808 -1.          1.         -0.91650188 -0.99989784]]\n"
     ]
    }
   ],
   "source": [
    "import numpy as np\n",
    "import tensorflow as tf\n",
    "\n",
    "# Size of the input vector at each time step\n",
    "n_inputs = 3\n",
    "# Number of recurrent neurons\n",
    "n_neurons = 5\n",
    "\n",
    "# Input vectors, one vector for each time step\n",
    "X0 = tf.placeholder(tf.float32, [None, n_inputs])\n",
    "X1 = tf.placeholder(tf.float32, [None, n_inputs])\n",
    "X2 = tf.placeholder(tf.float32, [None, n_inputs])\n",
    "\n",
    "# Weight matrices\n",
    "Wx = tf.Variable(tf.random_normal(shape=[n_inputs, n_neurons], dtype=tf.float32, seed=42))\n",
    "Wy = tf.Variable(tf.random_normal(shape=[n_neurons, n_neurons], dtype=tf.float32, seed=42))\n",
    "# Bias\n",
    "b = tf.Variable(tf.zeros([1, n_neurons], dtype=tf.float32))\n",
    "\n",
    "# Output of the recurrent neurons\n",
    "Y0 = tf.tanh(tf.matmul(X0, Wx) + b) # t=0\n",
    "Y1 = tf.tanh(tf.matmul(X1, Wx) + tf.matmul(Y0, Wy) + b) # t=1\n",
    "Y2 = tf.tanh(tf.matmul(X2, Wx) + tf.matmul(Y1, Wy) + b) # t=2\n",
    "\n",
    "init = tf.global_variables_initializer()\n",
    "\n",
    "# Mini-batch t=0\n",
    "X0_batch = np.array([[0, 1, 2], # instance 0\n",
    "                     [3, 4, 5], # instance 1\n",
    "                     [6, 7, 8], # instance 2\n",
    "                     [9, 0, 1]])# instance 3\n",
    "# Mini-batch t=1\n",
    "X1_batch = np.array([[9, 8, 7], \n",
    "                     [0, 0, 0], \n",
    "                     [6, 5, 4], \n",
    "                     [3, 2, 1]]) \n",
    "# Mini-batch t=2\n",
    "X2_batch = np.array([[1, 1, 1], \n",
    "                     [2, 2, 2], \n",
    "                     [3, 3, 3], \n",
    "                     [4, 4, 4]])\n",
    "\n",
    "with tf.Session() as sess:\n",
    "    init.run()\n",
    "    feed_dict = {X0: X0_batch, X1: X1_batch, X2: X2_batch}\n",
    "    Y0_val, Y1_val, Y2_val = sess.run([Y0, Y1, Y2], feed_dict=feed_dict)\n",
    "    \n",
    "    print('output at time step 0 \\n', Y0_val)\n",
    "    print('output at time step 1 \\n', Y1_val)\n",
    "    print('output at time step 2 \\n', Y2_val)"
   ]
  },
  {
   "cell_type": "markdown",
   "metadata": {},
   "source": [
    "### Forward pass by using dynamic_rnn() "
   ]
  },
  {
   "cell_type": "code",
   "execution_count": 59,
   "metadata": {
    "collapsed": false
   },
   "outputs": [
    {
     "name": "stdout",
     "output_type": "stream",
     "text": [
      "outputs \n",
      " [[[-0.79243445 -0.07810986 -0.55623132 -0.63593453 -0.39916798]\n",
      "  [-1.          0.13781041 -0.99933213 -0.99956363  0.99857813]\n",
      "  [-0.96403474  0.16623263 -0.87753439 -0.87500155  0.86511773]]\n",
      "\n",
      " [[-0.99982357  0.07373492 -0.96598244 -0.97201228  0.44489056]\n",
      "  [-0.58806229 -0.09562692 -0.66055042 -0.75599611  0.71095526]\n",
      "  [-0.99286997  0.10593171 -0.93090576 -0.89741349  0.86065054]]\n",
      "\n",
      " [[-0.99999988  0.22223617 -0.99790233 -0.99819142  0.88079047]\n",
      "  [-0.99999905  0.63702017 -0.99781162 -0.99711686  0.99896246]\n",
      "  [-0.99982023  0.39731839 -0.97057396 -0.97906291  0.95586169]]\n",
      "\n",
      " [[-0.99984211 -0.520441    0.26326054  0.56000155  0.91094059]\n",
      "  [-0.98744112  0.37480354 -0.66938627 -0.73687845  0.93673873]\n",
      "  [-0.99997264  0.35669041 -0.98546028 -0.9888792   0.96933651]]]\n",
      "states \n",
      " [[-0.96403474  0.16623263 -0.87753439 -0.87500155  0.86511773]\n",
      " [-0.99286997  0.10593171 -0.93090576 -0.89741349  0.86065054]\n",
      " [-0.99982023  0.39731839 -0.97057396 -0.97906291  0.95586169]\n",
      " [-0.99997264  0.35669041 -0.98546028 -0.9888792   0.96933651]]\n"
     ]
    }
   ],
   "source": [
    "tf.reset_default_graph()\n",
    "\n",
    "# Number of steps\n",
    "n_steps = 3\n",
    "\n",
    "# Tensor for all inputs at every time step\n",
    "X = tf.placeholder(tf.float32, [None, n_steps, n_inputs]) # first dimension is the mini-batch size\n",
    "\n",
    "basic_cell = tf.contrib.rnn.BasicRNNCell(num_units=n_neurons)\n",
    "outputs, states = tf.nn.dynamic_rnn(basic_cell, X, dtype=tf.float32)\n",
    "\n",
    "init = tf.global_variables_initializer()\n",
    "\n",
    "X_batch = np.array([\n",
    "    #   t=0        t=1        t=2\n",
    "    [[0, 1, 2], [9, 8, 7], [1, 1, 1]], # instance 0\n",
    "    [[3, 4, 5], [0, 0, 0], [2, 2, 2]], # instance 1\n",
    "    [[6, 7, 8], [6, 6, 4], [3, 3, 3]], # instance 2\n",
    "    [[9, 0, 1], [3, 2, 1], [4, 4, 4]]  # instance 3\n",
    "])\n",
    "\n",
    "with tf.Session() as sess:\n",
    "    init.run()\n",
    "    feed_dict = {X: X_batch}\n",
    "    outputs_val, states_val = sess.run([outputs, states], feed_dict=feed_dict)\n",
    "\n",
    "# instances X time steps X neurons\n",
    "print('outputs \\n', outputs_val)\n",
    "# state of each instance at the latest time step\n",
    "print('states \\n', states_val)"
   ]
  },
  {
   "cell_type": "code",
   "execution_count": null,
   "metadata": {
    "collapsed": true
   },
   "outputs": [],
   "source": []
  }
 ],
 "metadata": {
  "kernelspec": {
   "display_name": "Python 3",
   "language": "python",
   "name": "python3"
  },
  "language_info": {
   "codemirror_mode": {
    "name": "ipython",
    "version": 3
   },
   "file_extension": ".py",
   "mimetype": "text/x-python",
   "name": "python",
   "nbconvert_exporter": "python",
   "pygments_lexer": "ipython3",
   "version": "3.6.4"
  }
 },
 "nbformat": 4,
 "nbformat_minor": 2
}
