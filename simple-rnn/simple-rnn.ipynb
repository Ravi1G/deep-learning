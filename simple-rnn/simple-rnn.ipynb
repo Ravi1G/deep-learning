{
 "cells": [
  {
   "cell_type": "markdown",
   "metadata": {},
   "source": [
    "# Simple 3 time steps RNN without using any of TensorFlow's RNN operations\n",
    "\n",
    "(Based on Hands-On Machine Learning of Auriél Géron)"
   ]
  },
  {
   "cell_type": "code",
   "execution_count": 43,
   "metadata": {
    "collapsed": false
   },
   "outputs": [
    {
     "name": "stdout",
     "output_type": "stream",
     "text": [
      "output at time step 0 \n",
      " [[-0.95407802 -0.99674022  0.98660398  0.57785892 -0.98755085]\n",
      " [-0.30700076 -0.99999917  0.99999976  0.63324869 -0.99999374]\n",
      " [ 0.8457135  -1.          1.          0.68283153 -1.        ]\n",
      " [ 1.         -0.99766296  1.         -0.99999917 -0.98221558]]\n",
      "output at time step 1 \n",
      " [[ 0.99872833 -1.          1.         -0.99214447 -1.        ]\n",
      " [-0.96752214 -0.9684667   0.99960893 -0.99444956 -0.89819932]\n",
      " [ 0.99972194 -0.99999893  1.         -0.99968082 -0.99999726]\n",
      " [ 0.99847519 -0.99978107  0.99999833 -0.99886143 -0.11810157]]\n",
      "output at time step 2 \n",
      " [[ 0.58409685 -0.99991119  0.99998206 -0.99647796 -0.11304511]\n",
      " [-0.88040298 -0.99998939  0.99997598 -0.87694168 -0.8552171 ]\n",
      " [ 0.93676627 -0.99999976  1.         -0.99602008 -0.98977089]\n",
      " [ 0.98058808 -1.          1.         -0.91650188 -0.99989784]]\n"
     ]
    }
   ],
   "source": [
    "import numpy as np\n",
    "import tensorflow as tf\n",
    "\n",
    "# Size of the input vector at each time step\n",
    "n_inputs = 3\n",
    "# Number of recurrent neurons\n",
    "n_neurons = 5\n",
    "\n",
    "# Input vectors, one vector for each time step\n",
    "X0 = tf.placeholder(tf.float32, [None, n_inputs])\n",
    "X1 = tf.placeholder(tf.float32, [None, n_inputs])\n",
    "X2 = tf.placeholder(tf.float32, [None, n_inputs])\n",
    "\n",
    "# Weight matrices\n",
    "Wx = tf.Variable(tf.random_normal(shape=[n_inputs, n_neurons], dtype=tf.float32, seed=42))\n",
    "Wy = tf.Variable(tf.random_normal(shape=[n_neurons, n_neurons], dtype=tf.float32, seed=42))\n",
    "# Bias\n",
    "b = tf.Variable(tf.zeros([1, n_neurons], dtype=tf.float32))\n",
    "\n",
    "# Output of the recurrent neurons\n",
    "Y0 = tf.tanh(tf.matmul(X0, Wx) + b) # t=0\n",
    "Y1 = tf.tanh(tf.matmul(X1, Wx) + tf.matmul(Y0, Wy) + b) # t=1\n",
    "Y2 = tf.tanh(tf.matmul(X2, Wx) + tf.matmul(Y1, Wy) + b) # t=2\n",
    "\n",
    "init = tf.global_variables_initializer()\n",
    "\n",
    "# Mini-batch t=0\n",
    "X0_batch = np.array([[0, 1, 2], \n",
    "                     [3, 4, 5], \n",
    "                     [6, 7, 8], \n",
    "                     [9, 0, 1]])\n",
    "# Mini-batch t=1\n",
    "X1_batch = np.array([[9, 8, 7], \n",
    "                     [0, 0, 0], \n",
    "                     [6, 5, 4], \n",
    "                     [3, 2, 1]]) \n",
    "# Mini-batch t=2\n",
    "X2_batch = np.array([[1, 1, 1], \n",
    "                     [2, 2, 2], \n",
    "                     [3, 3, 3], \n",
    "                     [4, 4, 4]])\n",
    "\n",
    "with tf.Session() as sess:\n",
    "    init.run()\n",
    "    feed_dict = {X0: X0_batch, X1: X1_batch, X2: X2_batch}\n",
    "    Y0_val, Y1_val, Y2_val = sess.run([Y0, Y1, Y2], feed_dict=feed_dict)\n",
    "    \n",
    "    print('output at time step 0 \\n', Y0_val)\n",
    "    print('output at time step 1 \\n', Y1_val)\n",
    "    print('output at time step 2 \\n', Y2_val)"
   ]
  },
  {
   "cell_type": "code",
   "execution_count": null,
   "metadata": {
    "collapsed": true
   },
   "outputs": [],
   "source": []
  }
 ],
 "metadata": {
  "kernelspec": {
   "display_name": "Python 3",
   "language": "python",
   "name": "python3"
  },
  "language_info": {
   "codemirror_mode": {
    "name": "ipython",
    "version": 3
   },
   "file_extension": ".py",
   "mimetype": "text/x-python",
   "name": "python",
   "nbconvert_exporter": "python",
   "pygments_lexer": "ipython3",
   "version": "3.6.4"
  }
 },
 "nbformat": 4,
 "nbformat_minor": 2
}
